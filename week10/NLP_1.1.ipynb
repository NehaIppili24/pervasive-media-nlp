{
  "cells": [
    {
      "cell_type": "markdown",
      "metadata": {
        "id": "HRAmAEfu6zLa"
      },
      "source": [
        "# NLP 1.1\n",
        "\n",
        "## NLP in Python\n",
        "\n",
        "Notebooks a separated up into cells. Each cell can contain text in Markdown form (like this one), or Python code (See below)\n",
        "\n",
        "Each cell can be run in turn using “Shift + Enter”\n",
        "\n",
        "In a ``Python`` cell, you can include code that will be **executed**, and the output displayed underneath"
      ]
    },
    {
      "cell_type": "code",
      "execution_count": null,
      "metadata": {
        "id": "fPlzb1GM6zLc",
        "outputId": "bd92c01b-c979-400c-e8be-8f0d4eeeddb6"
      },
      "outputs": [
        {
          "data": {
            "text/plain": [
              "'This is Python code'"
            ]
          },
          "execution_count": 1,
          "metadata": {},
          "output_type": "execute_result"
        }
      ],
      "source": [
        "\"This is Python code\""
      ]
    },
    {
      "cell_type": "markdown",
      "metadata": {
        "id": "UIVgM-MU6zLd"
      },
      "source": [
        "### Comments ###\n",
        "\n",
        "You can also include text that **doesn't run** in ``Python`` cells, these are known as **comments** and are denoted with a ``#`` at the beginning of the line."
      ]
    },
    {
      "cell_type": "code",
      "execution_count": null,
      "metadata": {
        "id": "h5GYSuDe6zLd"
      },
      "outputs": [],
      "source": [
        "#This isn't, its a comment!"
      ]
    },
    {
      "cell_type": "code",
      "execution_count": null,
      "metadata": {
        "id": "xMlCu85V6zLd",
        "outputId": "b0506233-deb9-4bf9-c181-be6e5b86e36f"
      },
      "outputs": [
        {
          "data": {
            "text/plain": [
              "'This is still Python Code'"
            ]
          },
          "execution_count": 3,
          "metadata": {},
          "output_type": "execute_result"
        }
      ],
      "source": [
        "#You can have both\n",
        "\"This is still Python Code\""
      ]
    },
    {
      "cell_type": "markdown",
      "metadata": {
        "id": "czUuTnC76zLd"
      },
      "source": [
        "### Cell states and shortcuts\n",
        "\n",
        "There are two main states to be in \"Command mode\" (with the blue highlights) and \"Edit mode\" (with the green highlights).\n",
        "\n",
        "Broadly in Command mode we are editting the whole notebook, and in edit mode we are editting the insides of the cells\n",
        "\n",
        "Popular shortcuts in Command Mode are\n",
        "\n",
        "- A = add cell above\n",
        "- B = add cell below\n",
        "- X = delete cell\n",
        "- M = set cell to mark down\n",
        "- Y = set cell to code\n",
        "\n",
        "### Running Command Line Code in Notebooks\n",
        "\n",
        "First lets check which version of Python the notebook is using. We can evaluate anyting that we would in the Command Line in a notebook by putting a ```!``` first"
      ]
    },
    {
      "cell_type": "code",
      "execution_count": 1,
      "metadata": {
        "id": "67acKbSy6zLd",
        "outputId": "01ec3658-cb7d-4023-eb83-d41dc55c52b9",
        "colab": {
          "base_uri": "https://localhost:8080/"
        }
      },
      "outputs": [
        {
          "output_type": "stream",
          "name": "stdout",
          "text": [
            "/usr/bin/python3\n",
            "/bin/bash: line 1: where: command not found\n"
          ]
        }
      ],
      "source": [
        "!which python3\n",
        "!where python3"
      ]
    },
    {
      "cell_type": "markdown",
      "metadata": {
        "id": "yiYKwtFz6zLe"
      },
      "source": [
        "## Printing + Data Types\n",
        "\n",
        "Above, we saw that the last line of your cells was displayed underneath. For longer bits of code, we might want to display multiple things, and do it at various points in the code, and for this we use ``print()``\n",
        "\n",
        "You'll see below that there are **3 different ways** the code is being interpretted\n",
        "\n",
        "1. ``print()`` : is a **function**. It tells us to execute some code on the **argument** pass into the ``curly brackets(()``\n",
        "\n",
        "\n",
        "2. `\"This is some text\"` : is `textual data`. We tell Python this by putting it inside `quotation marks \"\"`. This type of textual data is known as a **String**.\n",
        "\n",
        "\n",
        "3. `1234` : is `numerical data`. This gets interpretted as numbers, as such we can do things like **maths** with them."
      ]
    },
    {
      "cell_type": "code",
      "execution_count": 2,
      "metadata": {
        "id": "nKqZKRm36zLe",
        "outputId": "c58f82d0-512b-4226-e378-f129501538d6",
        "colab": {
          "base_uri": "https://localhost:8080/"
        }
      },
      "outputs": [
        {
          "output_type": "stream",
          "name": "stdout",
          "text": [
            "This is some text\n",
            "12343\n"
          ]
        }
      ],
      "source": [
        "#String\n",
        "print(\"This is some text\")\n",
        "#Numbers\n",
        "print(\"1234\"+\"3\")"
      ]
    },
    {
      "cell_type": "markdown",
      "metadata": {
        "id": "DVnUnTn36zLe"
      },
      "source": [
        "### Tasks\n",
        "\n",
        "For the following 4 lines. The `error` messages may be useful!\n",
        "\n",
        "1. Identify what is wrong with it\n",
        "\n",
        "\n",
        "2. Correct the code so it runs\n"
      ]
    },
    {
      "cell_type": "code",
      "execution_count": 5,
      "metadata": {
        "id": "dApCk4wk6zLe",
        "outputId": "367f5f7b-e72a-477c-8560-d2968a14321a",
        "colab": {
          "base_uri": "https://localhost:8080/"
        }
      },
      "outputs": [
        {
          "output_type": "stream",
          "name": "stdout",
          "text": [
            "NLP is going to be my favourite class\n"
          ]
        }
      ],
      "source": [
        "print(\"NLP is going to be my favourite class\")"
      ]
    },
    {
      "cell_type": "code",
      "execution_count": 7,
      "metadata": {
        "id": "_tDnc2Aw6zLe",
        "outputId": "bae740dc-dbfd-4de8-c736-72967be9dc7d",
        "colab": {
          "base_uri": "https://localhost:8080/"
        }
      },
      "outputs": [
        {
          "output_type": "stream",
          "name": "stdout",
          "text": [
            "NLP is going to be my favourite class\n"
          ]
        }
      ],
      "source": [
        "print(\"NLP is going to be my favourite class\")"
      ]
    },
    {
      "cell_type": "code",
      "execution_count": 8,
      "metadata": {
        "id": "pLRcfLCR6zLe",
        "outputId": "3c136e3e-8a30-4ac2-a3ac-c6ae19b10662",
        "colab": {
          "base_uri": "https://localhost:8080/"
        }
      },
      "outputs": [
        {
          "output_type": "stream",
          "name": "stdout",
          "text": [
            "NLP is going to be my favourite class\n"
          ]
        }
      ],
      "source": [
        "print(\"NLP is going to be my favourite class\")"
      ]
    },
    {
      "cell_type": "code",
      "execution_count": 9,
      "metadata": {
        "id": "NAb-Fa636zLe",
        "outputId": "2daf318f-fcd4-4b9a-ac97-d387964cb642",
        "colab": {
          "base_uri": "https://localhost:8080/"
        }
      },
      "outputs": [
        {
          "output_type": "stream",
          "name": "stdout",
          "text": [
            "NLP is going to be my favourite class\n"
          ]
        }
      ],
      "source": [
        "print (\"NLP is going to be my favourite class\")"
      ]
    },
    {
      "cell_type": "markdown",
      "metadata": {
        "id": "_PcVlGbI6zLe"
      },
      "source": [
        "### Tasks\n",
        "\n",
        "Edit the second line of code so that it prints out the **result of the calculation** (as opposed to the **literal String**."
      ]
    },
    {
      "cell_type": "code",
      "execution_count": 10,
      "metadata": {
        "id": "NqbUYtQ86zLe",
        "outputId": "8a99077c-7e3a-4573-d375-4eba52c78ae1",
        "colab": {
          "base_uri": "https://localhost:8080/"
        }
      },
      "outputs": [
        {
          "output_type": "stream",
          "name": "stdout",
          "text": [
            "1 + 2 = \n"
          ]
        }
      ],
      "source": [
        "print(\"1 + 2 = \")\n"
      ]
    },
    {
      "cell_type": "markdown",
      "metadata": {
        "id": "hq-KnpkL6zLf"
      },
      "source": [
        "## Strings\n",
        "\n",
        "We will mainly focus on **Strings** for the rest of this session, because the main focus of this **NLP Course** is written text.\n",
        "\n",
        "Whilst we also will work extensively with numbers as we use **statistics** to gain insights into the text, this seems like a good place to start!\n",
        "\n",
        "### Concatenation\n",
        "\n",
        "Its a long word for a simple thing (welcome to coding!).\n",
        "\n",
        "This just means **joining strings together**. When we use `+` with numbers, it does a mathematical operation, when we use it with strings, it combines them!\n"
      ]
    },
    {
      "cell_type": "code",
      "execution_count": 11,
      "metadata": {
        "id": "38L1IQgb6zLf",
        "outputId": "705ca775-9321-4e03-d42d-83c634aba13e",
        "colab": {
          "base_uri": "https://localhost:8080/"
        }
      },
      "outputs": [
        {
          "output_type": "stream",
          "name": "stdout",
          "text": [
            "hello world\n"
          ]
        }
      ],
      "source": [
        "print(\"hello \" + \"world\")"
      ]
    },
    {
      "cell_type": "markdown",
      "metadata": {
        "id": "hol0vz-f6zLf"
      },
      "source": [
        "## Variables\n",
        "\n",
        "A ``Variable`` is a place that we can use to store values (``strings`` or numbers).\n",
        "\n",
        "We can then use them later and just use the **names of the variable**, and the code will interpret that as **the value stored inside it**.\n",
        "\n",
        "Once you have declared the variable, you can change the value in it. The code will interpret it as whatever is in the variable **at that particular time**.\n",
        "\n",
        "These values remain stored **throughout the notebook, across cells**.\n",
        "\n",
        "``\n",
        "my_dataset = \"its a really small data set\"\n",
        "path_to_file = \"pervasive-media-nlp/data/tuesday.txt\"\n",
        "``"
      ]
    },
    {
      "cell_type": "code",
      "execution_count": 12,
      "metadata": {
        "id": "eMIlxpMT6zLf",
        "outputId": "0b266f1f-0be9-4bf2-f61d-1e46800f63f1",
        "colab": {
          "base_uri": "https://localhost:8080/"
        }
      },
      "outputs": [
        {
          "output_type": "stream",
          "name": "stdout",
          "text": [
            "4\n",
            "6\n",
            "4\n",
            "5\n",
            "9\n",
            "pervasive-media-nlp/data/tuesday.txt\n"
          ]
        }
      ],
      "source": [
        "a = 4\n",
        "b = 6\n",
        "\n",
        "#Prints the numbers stored in the variables\n",
        "print(a)\n",
        "print(b)\n",
        "\n",
        "a = 4\n",
        "b = 5\n",
        "\n",
        "#Prints the numbers stored in the variables\n",
        "print(a)\n",
        "print(b)\n",
        "\n",
        "#Does the maths with the numbers stored in the variables!\n",
        "print(a + b)\n",
        "\n",
        "path_to_file = \"pervasive-media-nlp/data/tuesday.txt\"\n",
        "print(path_to_file)"
      ]
    },
    {
      "cell_type": "markdown",
      "metadata": {
        "id": "7G65R9iu6zLf"
      },
      "source": [
        "### Tasks - (4 tasks on variables and strings)\n",
        "\n",
        "1. Edit this code so the tweet is printed out with 2 additional hashtags."
      ]
    },
    {
      "cell_type": "code",
      "execution_count": 13,
      "metadata": {
        "id": "oyembPaC6zLf"
      },
      "outputs": [],
      "source": [
        "tweet_data = \"Social Media Data is often hard to parse #nlp #arts\" + \"#failure #girlboss\"\n"
      ]
    },
    {
      "cell_type": "markdown",
      "metadata": {
        "id": "-qeE_FpW6zLf"
      },
      "source": [
        "2. Write some code that takes a variable called `directory` and a variable called `text_file`, combines them into a new variable and prints it out"
      ]
    },
    {
      "cell_type": "code",
      "execution_count": 22,
      "metadata": {
        "id": "lTF9RSH06zLf",
        "outputId": "52e24a02-86ba-4a25-f74c-acb6d93cd435",
        "colab": {
          "base_uri": "https://localhost:8080/"
        }
      },
      "outputs": [
        {
          "output_type": "stream",
          "name": "stdout",
          "text": [
            "\n"
          ]
        }
      ],
      "source": [
        "###YOUR CODE HERE\n",
        "directory = \"\"\n",
        "text_file = \"\"\n",
        "files = directory + text_file\n",
        "print(files)\n"
      ]
    },
    {
      "cell_type": "markdown",
      "metadata": {
        "id": "KoA359806zLf"
      },
      "source": [
        "3. Write some code which takes a variable `boring_text`, adds seven `exclamation!` marks and prints it out"
      ]
    },
    {
      "cell_type": "code",
      "execution_count": 25,
      "metadata": {
        "id": "DlKKw-gn6zLf",
        "outputId": "e7d1da9c-8ff7-4013-d1df-dd7fcc516403",
        "colab": {
          "base_uri": "https://localhost:8080/"
        }
      },
      "outputs": [
        {
          "output_type": "stream",
          "name": "stdout",
          "text": [
            "blah blah!!!!!!!\n"
          ]
        }
      ],
      "source": [
        "boring_text = \"blah blah\"\n",
        "boring_text = boring_text + \"!!!!!!!\"\n",
        "print(boring_text)\n",
        "\n",
        "###YOUR CODE HERE\n",
        "\n"
      ]
    },
    {
      "cell_type": "markdown",
      "metadata": {
        "id": "KvM3aLzP6zLf"
      },
      "source": [
        "## String Functions\n",
        "\n",
        "As well as storing, retrieving and joining together strings, we can also use some built in **functions** in Python to learn about, and edit **Strings** to help us in **NLP** tasks.\n",
        "\n",
        "#### `len()`\n",
        "\n",
        "The `len()` function in Python can be used to get the **length of a given string**.\n",
        "\n",
        "```\n",
        "letters_in_book = len(book_text)\n",
        "```\n",
        "\n",
        "#### `Indexing`\n",
        "\n",
        "We can also extract **specific characters** from a string, given a **numerical index**.\n",
        "\n",
        "We do this using ``square brackets[]``.\n",
        "\n",
        "In coding, we **start counting at 0**. This means the first letter of a string is as follows\n",
        "\n",
        "``\n",
        "first_letter_in_book = book_text[0]\n",
        "``\n",
        "\n",
        "It also means **last character** will be at index **length - 1**. So we can also combine with the `len()` function to calculate this!\n",
        "\n",
        "\n",
        "#### `Slicing`\n",
        "\n",
        "If we want to get **more than 1 character**, we can provide two indexes with a ``colon:`` inbetween to specify a range.\n",
        "\n",
        "```\n",
        "first_five_letters = book_text[0:5]\n",
        "```"
      ]
    },
    {
      "cell_type": "markdown",
      "metadata": {
        "id": "sFImcyla6zLf"
      },
      "source": [
        "### Tasks\n",
        "\n",
        "1. These three variables contain information from a users social media profile. Write some code which prints out the **total number of characters in the whole profile**."
      ]
    },
    {
      "cell_type": "code",
      "execution_count": 26,
      "metadata": {
        "id": "C_14GnhN6zLf",
        "outputId": "b2be0e90-5261-4aae-8933-7c8283002ce7",
        "colab": {
          "base_uri": "https://localhost:8080/"
        }
      },
      "outputs": [
        {
          "output_type": "stream",
          "name": "stdout",
          "text": [
            "17\n"
          ]
        }
      ],
      "source": [
        "name = \"Yad\"\n",
        "job = \"Lecturer\"\n",
        "skills = \"someee\"\n",
        "\n",
        "#Your code here\n",
        "number_of_chars = 0\n",
        "int(number_of_chars)\n",
        "number_of_chars = len(name) + len(job) + len(skills)\n",
        "print(number_of_chars)\n",
        "\n"
      ]
    },
    {
      "cell_type": "markdown",
      "metadata": {
        "id": "FjcX60LG6zLg"
      },
      "source": [
        "2. Write some code to print out the last character of a variable called `username`"
      ]
    },
    {
      "cell_type": "code",
      "execution_count": 27,
      "metadata": {
        "id": "N3UHRWQg6zLg",
        "outputId": "2db676a6-b508-43d8-9119-af9277aec99c",
        "colab": {
          "base_uri": "https://localhost:8080/"
        }
      },
      "outputs": [
        {
          "output_type": "stream",
          "name": "stdout",
          "text": [
            "a\n"
          ]
        }
      ],
      "source": [
        "\n",
        "username = \"yadira\"\n",
        "#Your code here\n",
        "last_char = len(username)\n",
        "last_char = int(last_char)\n",
        "last_char = last_char -1\n",
        "print(username[last_char])\n"
      ]
    },
    {
      "cell_type": "markdown",
      "metadata": {
        "id": "F0zKdUDc6zLg"
      },
      "source": [
        "3. The variable `script` contains a **one letter abbreviation** of the actors name, followed by a colon, then the text for the actor to speak. Write some code that prints out **just the one letter abbreviation**."
      ]
    },
    {
      "cell_type": "code",
      "execution_count": 31,
      "metadata": {
        "id": "vrAE6Qqz6zLg",
        "outputId": "9209044e-feac-473e-8c13-d986d4356df0",
        "colab": {
          "base_uri": "https://localhost:8080/"
        }
      },
      "outputs": [
        {
          "output_type": "stream",
          "name": "stdout",
          "text": [
            "A\n"
          ]
        }
      ],
      "source": [
        "script = \"A:I have something important to say\"\n",
        "\n",
        "\n",
        "print(script[0:1])\n",
        ""
      ]
    },
    {
      "cell_type": "markdown",
      "metadata": {
        "id": "bjtH-1QC6zLg"
      },
      "source": [
        "4. The code below encodes a drum beat. Musicians use it compose even lengthed rhymthic patterns between 4 and 16 notes long. Write some code that prints out the **middle three notes, regardless of how long it is**.\n",
        "\n",
        "     **HINT**: Can you use the ``len()`` function to calculate the midpoint?\n",
        "    \n",
        "    **HINT**: A division always results in a number in the decimal format (known as a ``float``!) Indexes need to be in the whole number format (known as ``int``). You can convert a ``float`` to and ``int`` by calleding the ``int()`` function on it.\n",
        "    \n",
        "    e.g ``an_integer = int(3.0)``"
      ]
    },
    {
      "cell_type": "code",
      "execution_count": 51,
      "metadata": {
        "id": "h5xaR5uR6zLg",
        "outputId": "ac6cac3f-59ee-458f-dc38-81c3897831e7",
        "colab": {
          "base_uri": "https://localhost:8080/"
        }
      },
      "outputs": [
        {
          "output_type": "stream",
          "name": "stdout",
          "text": [
            "-xx\n"
          ]
        }
      ],
      "source": [
        "drum_beat = \"x--x--xxx---\"\n",
        "\n",
        "middle = len(drum_beat)//2\n",
        "\n",
        "print(drum_beat[middle-1] + drum_beat[middle] + drum_beat[middle+1])"
      ]
    },
    {
      "cell_type": "markdown",
      "metadata": {
        "id": "CiUJOU326zLg"
      },
      "source": [
        "5. The variable `currency` is a string that always has **3 characters at the end** that represent the type of currency (e.g. `GBP`, `USD` etc...). Add in some code that **removes this** leaving just the number to be printed out."
      ]
    },
    {
      "cell_type": "code",
      "execution_count": 54,
      "metadata": {
        "id": "sMiVXWio6zLg",
        "outputId": "2f86355d-cbae-49ac-83b4-37e3dd34fea5",
        "colab": {
          "base_uri": "https://localhost:8080/"
        }
      },
      "outputs": [
        {
          "output_type": "stream",
          "name": "stdout",
          "text": [
            "100000023.00\n"
          ]
        }
      ],
      "source": [
        "currency = \"100000023.00 HKD\"\n",
        "\n",
        "#Your code here\n",
        "length = len(currency)-1\n",
        "print(currency[0:length-3])\n"
      ]
    },
    {
      "cell_type": "markdown",
      "metadata": {
        "id": "9_TIbscT6zLg"
      },
      "source": [
        "### Bonus Exercise - Cut up Machine\n",
        "\n",
        "Taken from the excellent __Code as a Creative Medium Book__ by Golan Levin and Tega Brain, we are going to write some code to take a piece of source text and rearrange it!\n",
        "\n",
        "```\n",
        "In the Dada manifesto, Tristan Trza describes using a newspaper, scissors and some gentle shaking to make nonsense poetry. Write a program that randomises lines or sentences from a newspaper article to make a Dada-style poem\n",
        "```\n",
        "\n",
        "1. Save a longish (paragraph?) piece of text into a variable. If your text is has multiple lines, you will have to save it as a string with **3 quotation marks** (instead of the normal 2)\n",
        "\n",
        "```\n",
        "    my_text = \"\"\"a string that is very long\n",
        "                 on many lines\n",
        "                 needs 3 quotes\n",
        "                 at the start and end\"\"\"\n",
        "\n",
        "```\n",
        "\n",
        "2. Generate a random ``start_point`` and random ``end_point`` using the ``random()`` function. It takes **one** argument (which is the range of the random number)\n",
        "\n",
        "    E.g. ``random(3)`` generates a random number between 0 and 2\n",
        "    \n",
        "    Remember, your start point needs to be before your end point! And both need to be less than the total number of characters in the text\n",
        "    \n",
        "    **HINT** You may want to limit the size of each cut, maybe with a ``max_len`` variable\n",
        "   \n",
        "   \n",
        "3. Use these indexes to slice out a section of the text. Add this to the end of variable ``poem``\n",
        "\n",
        "\n",
        "4. Repeat steps 2 and 3 to keep growing your poem"
      ]
    },
    {
      "cell_type": "code",
      "execution_count": null,
      "metadata": {
        "id": "_l19Rx9Z6zLg"
      },
      "outputs": [],
      "source": [
        "#Load random number generator\n",
        "from numpy.random import randint as random"
      ]
    },
    {
      "cell_type": "code",
      "execution_count": null,
      "metadata": {
        "id": "7rUIbPMz6zLh"
      },
      "outputs": [],
      "source": [
        "#Copy your text here\n",
        "source_text = \"\"\"Copy your text here\"\"\""
      ]
    },
    {
      "cell_type": "code",
      "execution_count": null,
      "metadata": {
        "id": "4uV3s8rR6zLh"
      },
      "outputs": [],
      "source": [
        "#Start with an empty poem\n",
        "poem = \"\""
      ]
    },
    {
      "cell_type": "code",
      "execution_count": null,
      "metadata": {
        "id": "g7SaJeM46zLh"
      },
      "outputs": [],
      "source": [
        "#Your Code here\n",
        "\n",
        "\n"
      ]
    }
  ],
  "metadata": {
    "kernelspec": {
      "display_name": "Python 3",
      "language": "python",
      "name": "python3"
    },
    "language_info": {
      "codemirror_mode": {
        "name": "ipython",
        "version": 3
      },
      "file_extension": ".py",
      "mimetype": "text/x-python",
      "name": "python",
      "nbconvert_exporter": "python",
      "pygments_lexer": "ipython3",
      "version": "3.11.0"
    },
    "colab": {
      "provenance": []
    }
  },
  "nbformat": 4,
  "nbformat_minor": 0
}